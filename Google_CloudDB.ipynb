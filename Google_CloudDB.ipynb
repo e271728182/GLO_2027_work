{
 "cells": [
  {
   "cell_type": "code",
   "execution_count": 108,
   "metadata": {},
   "outputs": [],
   "source": [
    "import psycopg2\n",
    "import mysql.connector\n",
    "from mysql.connector.constants import ClientFlag\n",
    "import zipfile\n",
    "import os\n",
    "import random\n",
    "import shutil\n",
    "import pandas as pd\n",
    "import json\n",
    "import time\n",
    "import datetime\n",
    "import glob\n",
    "from collections import namedtuple"
   ]
  },
  {
   "cell_type": "markdown",
   "metadata": {},
   "source": [
    "## Functions to process data "
   ]
  },
  {
   "cell_type": "code",
   "execution_count": 227,
   "metadata": {},
   "outputs": [],
   "source": [
    "#function\n",
    "\n",
    "Author = namedtuple('Author', 'guid name email source location imageUrl coverUrl')\n",
    "Visual=namedtuple('Visual', 'guid type contentType generatingRenditions url caption credit language')\n",
    "Article=namedtuple('Article', 'guid templateName availableInPreview url creationDate modificationDate title channel lead chapters')\n",
    "\n",
    "def process_analytic_file(thisPath,thisFile):\n",
    "    \"\"\"\n",
    "    this function specifically transforms the inputs of the analytic file of GLU7027\n",
    "    it transforms the dict structure into tuples and performs the following modifs\n",
    "    \n",
    "    1;split the name into 2 parts  product-->the newspaper's name|plateform\n",
    "    2.transform created_at date into a mysql readable format\n",
    "    3.transforms the name into an integer value ex: View60-->60\n",
    "    \"\"\"\n",
    "    path=thisPath+thisFile\n",
    "    with open(path) as jar:\n",
    "        data = json.load(jar)\n",
    "        output=[]\n",
    "        for d in data:\n",
    "            d['createdAt']=d['createdAt'][:-1]\n",
    "            temp=d['product'].split('/') # to create additional column for the type of platform\n",
    "                \n",
    "            d['product']=temp[0]\n",
    "            d['interface']=temp[1]\n",
    "            #just get the number part the \"view\" has no purpose\n",
    "            if len(d['name'])==4:\n",
    "                d['name']=0\n",
    "            elif len(d['name'])==5:\n",
    "                d['name']=int(d['name'][-1:])\n",
    "            else:\n",
    "                d['name']=int(d['name'][-2:])\n",
    "        jar.close() \n",
    "        return [tuple(d.values()) for d in data]\n",
    "    \n",
    "\n",
    "def process_article_file(thisPath,thisFile):\n",
    "    \"\"\"\n",
    "    this function transform the JSON of an article into 3 namedTuples, one for the article,the author and\n",
    "    the visuals in the article.\n",
    "    \n",
    "    this function processes one article at a time\n",
    "    \n",
    "    inputs:it uses the folder path and file name as inputs\n",
    "    outputs: a list of Authors namedTuples\n",
    "             a list of Visual named tuples\n",
    "             a list of Articles named tuples\n",
    "\n",
    "    \n",
    "    author and visual use the guid of the article as its foreign key\n",
    "    Because it is a nested json and not all json have all the information, exception handling was necessary\n",
    "    to avoid the pyramid of doom\n",
    "    \n",
    "    \"\"\"\n",
    "    path=thisPath+thisFile\n",
    "    with open(path) as jar:\n",
    "        data = json.load(jar)\n",
    "        articles=[]\n",
    "        authors=[]\n",
    "        visuals=[]\n",
    "        \n",
    "        #author part:\n",
    "        for author in data['authors']:\n",
    "           \n",
    "            authorKeys=list(author.keys())\n",
    "            guid=data['id'] #it will be it foreign key to link back article to author\n",
    "            \n",
    "            if 'name' in authorKeys:\n",
    "                name=author['name']\n",
    "            else:\n",
    "                name='Elvis Gratton'\n",
    "            if 'email' in authorKeys:\n",
    "                email=author['email']\n",
    "            else:\n",
    "                email=\"bobGratton@garabeGratton.com\"\n",
    "            if 'source' in authorKeys:\n",
    "                source=author['source']\n",
    "            else:\n",
    "                source=''\n",
    "            if 'location' in authorKeys:\n",
    "                location=author['location']\n",
    "            else:\n",
    "                location='Lacheneuil'\n",
    "            if 'imageUrl' in authorKeys:\n",
    "                imageUrl=author['imageUrl']\n",
    "            else:\n",
    "                imageUrl=''\n",
    "            if 'coverUrl' in authorKeys:\n",
    "                coverUrl=author['coverUrl']\n",
    "            else:\n",
    "                coverUrl=''\n",
    "            authors.append(Author(guid,name,email,source,location,imageUrl,coverUrl))\n",
    "            \n",
    "        #visual part\n",
    "        visualKeys=list(data['visual'].keys())\n",
    "      \n",
    "        guid= data['id']\n",
    "        \n",
    "        if 'type'in visualKeys:\n",
    "            type_= data['visual']['type']\n",
    "        else:\n",
    "            type_=''\n",
    "        \n",
    "        if 'contentType' in visualKeys:\n",
    "            contentType=data['visual']['contentType']\n",
    "        else:\n",
    "            contentType=''\n",
    "        \n",
    "        if 'generatingRenditions' in visualKeys:\n",
    "            generatingRenditions=data['visual']['generatingRenditions']\n",
    "        else:\n",
    "            generatingRenditions=''\n",
    "            \n",
    "        if 'url' in visualKeys:\n",
    "            url=data['visual']['url']\n",
    "        else:\n",
    "            url=''\n",
    "        if 'caption' in visualKeys:\n",
    "            try:\n",
    "                caption=data['visual']['caption']['fr']\n",
    "            except:\n",
    "                caption=''\n",
    "        else:\n",
    "            caption=''\n",
    "        if 'credit' in visualKeys:\n",
    "            #credit and language are nested one level deeper but it is always a 1 key 1 value dict\n",
    "            try:\n",
    "                credit =list(data['visual']['credits'].values())[0]\n",
    "                language=list(data['visual']['credits'].keys())[0]\n",
    "            except:\n",
    "                credit=''\n",
    "                language=''\n",
    "        else:\n",
    "            credit=''\n",
    "            language='' \n",
    "                \n",
    "        visuals.append(Visual(guid,type_, contentType,generatingRenditions,url,caption,credit,language))\n",
    "                              \n",
    "            \n",
    "        #article part \n",
    "        articleKeys=data.keys()\n",
    "        guid=data['id']\n",
    "        templateName=data['templateName']\n",
    "            \n",
    "        availableInPreview=data['availableInPreview']\n",
    "        url=data['url'] \n",
    "        creationDate=data['creationDate'][:-1] #must remove de 'Z' at the end of date fields\n",
    "        modificationDate=data['modificationDate'][:-1] \n",
    "        if 'title' in articleKeys:\n",
    "            try:\n",
    "                title=list(data['title'].values())[0]\n",
    "                \n",
    "            except:\n",
    "                title=''\n",
    "        else:\n",
    "            title=''\n",
    "    \n",
    "        try:\n",
    "            channel=list(data['channel'].values())[0] \n",
    "            \n",
    "        except:\n",
    "            channel=''\n",
    "            \n",
    "        try:\n",
    "            lead=list(data['lead'].values())[0]\n",
    "        except:\n",
    "            lead=''\n",
    "        \n",
    "        if 'chapters' in articleKeys:\n",
    "            chapters=''\n",
    "            for paragraph in data['chapters']:\n",
    "                paragraphKeys= paragraph.keys()\n",
    "                if 'text' in paragraphKeys:\n",
    "                    chapters=chapters+'\\n'+paragraph['text']['fr']\n",
    "                \n",
    "             \n",
    "        else:\n",
    "            chapters=[{'abc':'cba'}]\n",
    "        articles.append(Article(guid,templateName,availableInPreview,url,creationDate,modificationDate,title,channel,lead,chapters))                  \n",
    "      \n",
    "            \n",
    "     \n",
    "        jar.close() \n",
    "        return articles,authors,visuals  "
   ]
  },
  {
   "cell_type": "markdown",
   "metadata": {},
   "source": [
    "## DataBase connections configuration "
   ]
  },
  {
   "cell_type": "code",
   "execution_count": 199,
   "metadata": {},
   "outputs": [],
   "source": [
    "config = {\n",
    "    'user': 'root',\n",
    "    'password': 'abc123',\n",
    "    'host': '34.69.198.118',\n",
    "    'use_pure':True,\n",
    "    'database':'GLO_7027',\n",
    "    'client_flags': [ClientFlag.SSL],\n",
    "    'ssl_ca': 'server-ca.pem',\n",
    "    'ssl_cert': 'client-cert.pem',\n",
    "    'ssl_key': 'client-key.pem'\n",
    "}\n",
    "\n",
    "cnxn = mysql.connector.connect(**config)\n",
    "cursor = cnxn.cursor()"
   ]
  },
  {
   "cell_type": "markdown",
   "metadata": {},
   "source": [
    "## Database table configuration "
   ]
  },
  {
   "cell_type": "markdown",
   "metadata": {},
   "source": [
    "## MySQL Queries "
   ]
  },
  {
   "cell_type": "code",
   "execution_count": null,
   "metadata": {},
   "outputs": [],
   "source": [
    "\"\"\"\n",
    "\n",
    "\n",
    "\n",
    "# create a new  database\n",
    "cursor = cnxn.cursor()  # initialize connection cursor\n",
    "cursor.execute('CREATE DATABASE GLO_7027')  # create a new  database\n",
    "cnxn.close()  # close connection because we will be reconnecting to testdb\n",
    "\n",
    "\n",
    "config['database'] = 'GLO_7027'  # add new database to config dict\n",
    "cnxn = mysql.connector.connect(**config)\n",
    "cursor = cnxn.cursor()\n",
    "\n",
    "#drop a table\n",
    "cursor.execute(\"DROP TABLE analytics\")\n",
    "cnxn.commit()\n",
    "\n",
    "#create analytics table\n",
    "cursor.execute(\"CREATE TABLE analytics (\"\n",
    "               \"id INT AUTO_INCREMENT PRIMARY KEY,\"\n",
    "               \"created_at DATETIME,\"\n",
    "               \"guid VARCHAR(50),\"\n",
    "               \"hash VARCHAR(255),\"\n",
    "               \"product VARCHAR(255),\"\n",
    "               \"interface VARCHAR(255) )\")\n",
    "\n",
    "#insert into analytics db\n",
    "insert_into_analytics = (\"INSERT INTO analytics (hash, click_time, product, created_at,interface) \"\n",
    "         \"VALUES (%s, %s, %s, %s,%s)\")\n",
    "\n",
    "\n",
    "#create article table\n",
    "cursor.execute(\"CREATE TABLE articles (\"\n",
    "               \"id INT AUTO_INCREMENT PRIMARY KEY,\"\n",
    "               \"guid VARCHAR(50),\"\n",
    "               \"templateName VARCHAR(255),\"\n",
    "               \"availableInPreview BOOL,\"\n",
    "               \"url VARCHAR(255),\"\n",
    "               \"creationDate DATETIME,\"\n",
    "               \"modificationDate DATETIME,\"\n",
    "               \"title TEXT,\"\n",
    "               \"channel TEXT,\"\n",
    "               \"lead TEXT,\"\n",
    "               \"articleText TEXT )\")\n",
    "#insert into articles db\n",
    "insert_into_articles = (\"INSERT INTO articles (guid, templateName, availableInPreview, url,creationDate,modificationDate,title,channel,lead,articleText) \"\n",
    "         \"VALUES (%s, %s, %s, %s,%s,%s, %s, %s, %s,%s)\")\n",
    "\n",
    "\n",
    "#create authors table\n",
    "\n",
    "cursor.execute(\"CREATE TABLE authors (\"\n",
    "               \"id INT AUTO_INCREMENT PRIMARY KEY,\"\n",
    "               \"guid VARCHAR(50),\"\n",
    "               \"name VARCHAR(255),\"\n",
    "               \"email VARCHAR(255),\"\n",
    "               \"source VARCHAR(255),\"\n",
    "               \"location VARCHAR(255),\"\n",
    "               \"imageUrl VARCHAR(255),\"\n",
    "               \"coverUrl VARCHAR(255) )\")\n",
    "\n",
    "insert_into_authors = (\"INSERT INTO authors (guid, name, email, source,location,imageUrl,coverUrl) \"\n",
    "         \"VALUES (%s, %s, %s, %s,%s,%s, %s)\")\n",
    "\n",
    "\n",
    "\n",
    "#create visual table\n",
    "Visual=namedtuple('Visual', 'guid type contentType generatingRenditions url caption credit language')\n",
    "\n",
    "cursor.execute(\"CREATE TABLE authors (\"\n",
    "               \"id INT AUTO_INCREMENT PRIMARY KEY,\"\n",
    "               \"guid VARCHAR(50),\"\n",
    "               \"name VARCHAR(255),\"\n",
    "               \"email VARCHAR(255),\"\n",
    "               \"source VARCHAR(255),\"\n",
    "               \"location VARCHAR(255),\"\n",
    "               \"imageUrl VARCHAR(255),\"\n",
    "               \"coverUrl VARCHAR(255) )\")\n",
    "               \n",
    "insert_into_visuals = (\"INSERT INTO visuals (guid, type, contentType, generatingRenditions,url,caption,credit,language) \"\n",
    "         \"VALUES (%s, %s, %s, %s,%s,%s, %s,%s)\")\n",
    "\n",
    "cursor.execute(\"SELECT COUNT(*) from analytics\" )\n",
    "out=cursor.fetchall()\n",
    "out\n",
    "\n",
    "cnxn.commit()"
   ]
  },
  {
   "cell_type": "markdown",
   "metadata": {},
   "source": [
    "# Inputs "
   ]
  },
  {
   "cell_type": "code",
   "execution_count": 20,
   "metadata": {},
   "outputs": [],
   "source": [
    "#process JSON files\n",
    "\n",
    "#Inputs for analytics file\n",
    "start_time = time.process_time()\n",
    "#if it is the first time\n",
    "processed_files=[]\n",
    "#if not then upload the list of already processed files\n",
    "#processed_files=pd.read_csv('processed_files_lenouvelliste.csv')['file_name'].tolist()\n",
    "files=os.listdir('/Users/gabounet/ULaval/GLO_2027/TrainSample/')\n",
    "total=len(files)\n",
    "#path_to_file='/Users/gabounet/ULaval/GLO_2027/RichardKhoury/Analytics/lavoixdelest/'\n",
    "\n",
    "# inputs for query\n",
    "step=50000\n"
   ]
  },
  {
   "cell_type": "markdown",
   "metadata": {},
   "source": [
    "# Treatment and upload analytics file"
   ]
  },
  {
   "cell_type": "code",
   "execution_count": 22,
   "metadata": {},
   "outputs": [],
   "source": [
    "\"\"\"count=1\n",
    "for file in files[:]:\n",
    "    \n",
    "    if file not in processed_files:\n",
    "        #try to open the json if it doesn't have a bug\n",
    "        try:\n",
    "            output=process_analytic_file(path_to_file,file)\n",
    "\n",
    "        except:\n",
    "            output=[]\n",
    "        #load data to google mysqldb by batch equal to the step to avoid connection drop\n",
    "        \n",
    "        start=0\n",
    "        limit=len(output)\n",
    "        while start< limit:\n",
    "\n",
    "            cursor.executemany(insert_into_analytics, output[start:min(limit,start+step)])\n",
    "            cnxn.commit()  # and commit changes\n",
    "            start=start+step\n",
    "\n",
    "\n",
    "        processed_files.append(file)\n",
    "        print(file,\" \",count,\" ouf of \",total)\n",
    "        count=count+1\"\"\"\n",
    "pass"
   ]
  },
  {
   "cell_type": "code",
   "execution_count": 228,
   "metadata": {},
   "outputs": [],
   "source": [
    "pathTest='/Users/gabounet/ULaval/GLO_2027/TrainSample/'\n",
    "correctFiles=[f for f in files if '--pub' not in f]\n",
    "n=1\n",
    "for file in correctFiles[1:500]:\n",
    "    art,auth,viz=process_article_file(pathTest,file)\n",
    "    #print(n)\n",
    "    n=n+1"
   ]
  },
  {
   "cell_type": "code",
   "execution_count": 226,
   "metadata": {},
   "outputs": [
    {
     "name": "stdout",
     "output_type": "stream",
     "text": [
      "2f461cf7f8861d57d3842a386ca8d6e0.json\n"
     ]
    }
   ],
   "source": [
    "print(file)"
   ]
  },
  {
   "cell_type": "code",
   "execution_count": 232,
   "metadata": {},
   "outputs": [],
   "source": [
    "cursor.execute(\"CREATE TABLE visuals (\"\n",
    "               \"id INT AUTO_INCREMENT PRIMARY KEY,\"\n",
    "               \"guid VARCHAR(50),\"\n",
    "               \"type VARCHAR(255),\"\n",
    "               \"contentType VARCHAR(255),\"\n",
    "               \"generatingRenditions BOOLEAN,\"\n",
    "               \"url VARCHAR(255),\"\n",
    "               \"caption TEXT,\"\n",
    "               \"credit VARCHAR(255),\"\n",
    "               \"language VARCHAR(255) )\")\n",
    "\n",
    "cnxn.commit()"
   ]
  },
  {
   "cell_type": "markdown",
   "metadata": {},
   "source": [
    "# authors"
   ]
  },
  {
   "cell_type": "code",
   "execution_count": 209,
   "metadata": {},
   "outputs": [],
   "source": [
    "cursor.execute(\"CREATE TABLE authors (\"\n",
    "               \"id INT AUTO_INCREMENT PRIMARY KEY,\"\n",
    "               \"guid VARCHAR(50),\"\n",
    "               \"name VARCHAR(255),\"\n",
    "               \"email VARCHAR(255),\"\n",
    "               \"source VARCHAR(255),\"\n",
    "               \"location VARCHAR(255),\"\n",
    "               \"imageUrl VARCHAR(255),\"\n",
    "               \"coverUrl VARCHAR(255) )\")\n",
    "\n",
    "cnxn.commit()"
   ]
  },
  {
   "cell_type": "code",
   "execution_count": 233,
   "metadata": {},
   "outputs": [],
   "source": [
    "insert_into_visuals = (\"INSERT INTO visuals (guid, type, contentType, generatingRenditions,url,caption,credit,language) \"\n",
    "         \"VALUES (%s, %s, %s, %s,%s,%s, %s,%s)\")\n"
   ]
  },
  {
   "cell_type": "code",
   "execution_count": 234,
   "metadata": {},
   "outputs": [],
   "source": [
    "cursor.execute(insert_into_visuals, viz[0])\n",
    "cnxn.commit()"
   ]
  },
  {
   "cell_type": "code",
   "execution_count": 200,
   "metadata": {},
   "outputs": [],
   "source": [
    "cursor.execute(\"DROP TABLE articles\")\n",
    "cnxn.commit()"
   ]
  },
  {
   "cell_type": "code",
   "execution_count": 202,
   "metadata": {},
   "outputs": [],
   "source": [
    "insert_into_articles = (\"INSERT INTO articles (guid, templateName, availableInPreview, url,creationDate,modificationDate,title,channel,lead,articleText) \"\n",
    "         \"VALUES (%s, %s, %s, %s,%s,%s, %s, %s, %s,%s)\")\n"
   ]
  },
  {
   "cell_type": "code",
   "execution_count": 204,
   "metadata": {},
   "outputs": [],
   "source": [
    "cursor.execute(insert_into_articles, art[0])\n",
    "cnxn.commit()"
   ]
  },
  {
   "cell_type": "code",
   "execution_count": 235,
   "metadata": {},
   "outputs": [],
   "source": [
    "cursor.execute(\"SELECT * from visuals\" )\n",
    "\n",
    "out=cursor.fetchall()\n"
   ]
  },
  {
   "cell_type": "code",
   "execution_count": 229,
   "metadata": {},
   "outputs": [
    {
     "data": {
      "text/plain": [
       "Visual(guid='8754e3aa9ee56b67d7684e6e22041c21', type='photo', contentType='image', generatingRenditions=False, url='https://images.omerlocdn.com/resize?url=https%3A%2F%2Fgcm-v2.omerlocdn.com%2Fproduction%2Fglobal%2Ffiles%2Fimage%2Fplaceholder.jpg&stripmeta=true&width=1024&type=jpeg', caption='', credit='', language='')"
      ]
     },
     "execution_count": 229,
     "metadata": {},
     "output_type": "execute_result"
    }
   ],
   "source": [
    "viz[0]"
   ]
  },
  {
   "cell_type": "code",
   "execution_count": 236,
   "metadata": {},
   "outputs": [
    {
     "data": {
      "text/plain": [
       "[(1,\n",
       "  '8754e3aa9ee56b67d7684e6e22041c21',\n",
       "  'photo',\n",
       "  'image',\n",
       "  0,\n",
       "  'https://images.omerlocdn.com/resize?url=https%3A%2F%2Fgcm-v2.omerlocdn.com%2Fproduction%2Fglobal%2Ffiles%2Fimage%2Fplaceholder.jpg&stripmeta=true&width=1024&type=jpeg',\n",
       "  '',\n",
       "  '',\n",
       "  '')]"
      ]
     },
     "execution_count": 236,
     "metadata": {},
     "output_type": "execute_result"
    }
   ],
   "source": [
    "out"
   ]
  },
  {
   "cell_type": "code",
   "execution_count": 164,
   "metadata": {},
   "outputs": [
    {
     "name": "stdout",
     "output_type": "stream",
     "text": [
      "hi\n",
      "hi\n"
     ]
    }
   ],
   "source": [
    "print('hi\\nhi')"
   ]
  },
  {
   "cell_type": "code",
   "execution_count": 166,
   "metadata": {},
   "outputs": [
    {
     "data": {
      "text/plain": [
       "'cc/ncccc'"
      ]
     },
     "execution_count": 166,
     "metadata": {},
     "output_type": "execute_result"
    }
   ],
   "source": [
    "x='cc'\n",
    "x=x+'/ncccc'\n",
    "x"
   ]
  },
  {
   "cell_type": "code",
   "execution_count": 178,
   "metadata": {},
   "outputs": [
    {
     "name": "stdout",
     "output_type": "stream",
     "text": [
      "cc/ncccc\n"
     ]
    }
   ],
   "source": [
    "print(x)"
   ]
  },
  {
   "cell_type": "code",
   "execution_count": null,
   "metadata": {},
   "outputs": [],
   "source": []
  }
 ],
 "metadata": {
  "kernelspec": {
   "display_name": "Python 3",
   "language": "python",
   "name": "python3"
  },
  "language_info": {
   "codemirror_mode": {
    "name": "ipython",
    "version": 3
   },
   "file_extension": ".py",
   "mimetype": "text/x-python",
   "name": "python",
   "nbconvert_exporter": "python",
   "pygments_lexer": "ipython3",
   "version": "3.7.3"
  }
 },
 "nbformat": 4,
 "nbformat_minor": 2
}
